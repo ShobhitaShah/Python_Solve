{
 "cells": [
  {
   "cell_type": "code",
   "execution_count": 2,
   "metadata": {},
   "outputs": [],
   "source": [
    "s = \"Rat\""
   ]
  },
  {
   "cell_type": "code",
   "execution_count": 4,
   "metadata": {},
   "outputs": [],
   "source": [
    "#length function\n",
    "def give_me_length(text):\n",
    "    c=0\n",
    "    for i in text:\n",
    "        c+=1  #c = c+1\n",
    "    return c\n",
    "\n"
   ]
  },
  {
   "cell_type": "code",
   "execution_count": 6,
   "metadata": {},
   "outputs": [
    {
     "data": {
      "text/plain": [
       "3"
      ]
     },
     "execution_count": 6,
     "metadata": {},
     "output_type": "execute_result"
    }
   ],
   "source": [
    "l = give_me_length(s)        #FUNCTION CALL\n",
    "l"
   ]
  },
  {
   "cell_type": "code",
   "execution_count": 9,
   "metadata": {},
   "outputs": [
    {
     "data": {
      "text/plain": [
       "True"
      ]
     },
     "execution_count": 9,
     "metadata": {},
     "output_type": "execute_result"
    }
   ],
   "source": [
    "'s' in \"shobhita\""
   ]
  },
  {
   "cell_type": "code",
   "execution_count": 7,
   "metadata": {},
   "outputs": [
    {
     "ename": "NameError",
     "evalue": "name 'c' is not defined",
     "output_type": "error",
     "traceback": [
      "\u001b[0;31m---------------------------------------------------------------------------\u001b[0m",
      "\u001b[0;31mNameError\u001b[0m                                 Traceback (most recent call last)",
      "\u001b[0;32m<ipython-input-7-1dd5973cae19>\u001b[0m in \u001b[0;36m<module>\u001b[0;34m\u001b[0m\n\u001b[0;32m----> 1\u001b[0;31m \u001b[0mprint\u001b[0m\u001b[0;34m(\u001b[0m\u001b[0mc\u001b[0m\u001b[0;34m)\u001b[0m\u001b[0;34m\u001b[0m\u001b[0;34m\u001b[0m\u001b[0m\n\u001b[0m",
      "\u001b[0;31mNameError\u001b[0m: name 'c' is not defined"
     ]
    }
   ],
   "source": [
    "print(c)  #c defined within the block in funtion above, scope of the variable"
   ]
  },
  {
   "cell_type": "markdown",
   "metadata": {},
   "source": [
    "## Search about scope of variable?\n",
    "\n",
    "A scope is a region of the program and broadly speaking there are three places, where variables can be declared:\n",
    "\n",
    "Inside a function or a block which is called local variables,\n",
    "In the definition of function parameters which is called formal parameters.\n",
    "Outside of all functions which is called global variables.\n",
    "\n",
    "#LOCAL VARIABLES\n",
    "Variables that are declared inside a function or block are local variables. They can be used only by statements that are inside that function or block of code. Local variables are not known to functions outside their own.\n",
    "\n",
    "#GLOBAL VARIABLES\n",
    "Global variables are defined outside of all the functions, usually on top of the program. The global variables will hold their type throughout the life-time of your program.\n",
    "A global variable can be accessed by any function. That is, a global variable is available for use throughout your entire program after its declaration.\n"
   ]
  },
  {
   "cell_type": "code",
   "execution_count": 10,
   "metadata": {},
   "outputs": [],
   "source": [
    "## Problem 26 :\n",
    "# Pig Latin takes the first consonant of a word, moves it to the end of the word and adds on an “ay”. If a word begins with a vowel you just add “way” to the end. For example, pig becomes igpay, \n",
    "#banana becomes ananabay, and aadvark becomes aadvarkway. Create a program that will ask the user to enter a word and change it into Pig Latin. \n",
    "#Make sure the new word is displayed in lower case\n",
    "\n",
    "#logic\n",
    "# -length \n",
    "# -condition, word[0] not in vowel\n",
    "# -word[1:]+word[0]+'ay'\n",
    "# -elif: word[0] in \"aeiou\"\n",
    "# -word+'way'\n",
    "# -else:\n",
    "# -print(.)"
   ]
  },
  {
   "cell_type": "code",
   "execution_count": 11,
   "metadata": {},
   "outputs": [
    {
     "name": "stdout",
     "output_type": "stream",
     "text": [
      "ashuRay\n"
     ]
    }
   ],
   "source": [
    "s = \"Rashu\"\n",
    "if s[0] not in \"aeiou\":\n",
    "    print(s[1:]+s[0]+'ay')\n",
    "elif s[0] in \"seiou\":\n",
    "    print(s+'way')\n",
    "else:\n",
    "    print(\"incorrect\")"
   ]
  },
  {
   "cell_type": "code",
   "execution_count": 14,
   "metadata": {},
   "outputs": [
    {
     "name": "stdout",
     "output_type": "stream",
     "text": [
      "ubhaSay\n"
     ]
    }
   ],
   "source": [
    "s = input(\"ENter a word : \")\n",
    "if s[0] not in \"aeiouAEIOU\":\n",
    "    print(s[1:]+s[0]+'ay')\n",
    "elif s[0] in \"seiouAEIOU\":\n",
    "    print(s+'way')\n",
    "else:\n",
    "    print(\"incorrect\")"
   ]
  },
  {
   "cell_type": "code",
   "execution_count": 8,
   "metadata": {},
   "outputs": [
    {
     "name": "stdout",
     "output_type": "stream",
     "text": [
      "4\n"
     ]
    }
   ],
   "source": [
    "# Problem : 20\n",
    "# Ask the user to enter their first name and find its length\n",
    "\n",
    "st = input(\"Enter the first name\")\n",
    "\n",
    "c=0\n",
    "for i in st:\n",
    "    c = c+1\n",
    "    #print(st,[i])\n",
    "print(c)"
   ]
  },
  {
   "cell_type": "code",
   "execution_count": 12,
   "metadata": {},
   "outputs": [
    {
     "name": "stdout",
     "output_type": "stream",
     "text": [
      "Shobhita Shah\n",
      "13\n"
     ]
    }
   ],
   "source": [
    "# Problem 21 : Take first and surname from user, join them with space and then print length of that name\n",
    "\n",
    "first = input(\"Enter the first name\")\n",
    "last = input(\"ENter the surname\")\n",
    "join = first+\" \"+last\n",
    "print(join)\n",
    "c = 0\n",
    "for i in join:\n",
    "    c = c+1\n",
    "print(c)"
   ]
  },
  {
   "cell_type": "code",
   "execution_count": 21,
   "metadata": {},
   "outputs": [
    {
     "name": "stdout",
     "output_type": "stream",
     "text": [
      "First name is : shobhita\n",
      "Last name is : shah\n",
      "The name is : Shobhita Shah\n",
      "The length of 'Shobhita Shah' is 13\n"
     ]
    }
   ],
   "source": [
    "# Problem 22 : first and surname in lower case, change the case in title and join them together\n",
    "\n",
    "fir = input(\"Enter first name in lower case : \")\n",
    "print(f\"First name is : {fir}\")\n",
    "las = input(\"Last name in lower case : \")\n",
    "print(f\"Last name is : {las}\")\n",
    "join = fir.title() + \" \" + las.title()\n",
    "print(f\"The name is : {join}\")\n",
    "c = 0\n",
    "for i in join:\n",
    "    c = c+1\n",
    "print(f\"The length of '{join}' is {c}\")\n"
   ]
  },
  {
   "cell_type": "code",
   "execution_count": 32,
   "metadata": {},
   "outputs": [
    {
     "name": "stdout",
     "output_type": "stream",
     "text": [
      "THe rhyme is : twinkle twinkle little star\n",
      "27\n",
      " little star\n"
     ]
    }
   ],
   "source": [
    "# Problem 23: ask the user to print the first line of a rhyme and print its length\n",
    "# Then ask the user for limit rangle from your string and diplay that portion\n",
    "\n",
    "rhyme = input(\"A line of a rhyme : \")\n",
    "print (f\"THe rhyme is : {rhyme}\")\n",
    "c=0\n",
    "for i in rhyme:\n",
    "    c+=1\n",
    "print(c)\n",
    "s = int(input(\"give starting range from your string\"))\n",
    "e = int(input(\"give end range from your string\"))\n",
    "print(rhyme[s:e])"
   ]
  },
  {
   "cell_type": "code",
   "execution_count": 31,
   "metadata": {},
   "outputs": [
    {
     "name": "stdout",
     "output_type": "stream",
     "text": [
      " litt\n"
     ]
    }
   ],
   "source": [
    "#randomTesting\n",
    "print(\"twinkle twinkle little star\"[15:20])"
   ]
  },
  {
   "cell_type": "code",
   "execution_count": 34,
   "metadata": {},
   "outputs": [
    {
     "name": "stdout",
     "output_type": "stream",
     "text": [
      "HELLO\n"
     ]
    }
   ],
   "source": [
    "# Problem : 24 : type any word and display in uppar case\n",
    "\n",
    "word = input(\"TYpe a word\")\n",
    "#word.upper()\n",
    "print(word.upper())"
   ]
  },
  {
   "cell_type": "code",
   "execution_count": 42,
   "metadata": {},
   "outputs": [
    {
     "name": "stdout",
     "output_type": "stream",
     "text": [
      "name is SHO SHA\n"
     ]
    }
   ],
   "source": [
    "# Problem : 25 : Type first name, if word length is under 5 charchacter, ask to enter surname and join the names, convert to upper case. If first name above 5 characters, print first name in lower case\n",
    "\n",
    "f = input(\"Enter first name\")\n",
    "c = 0\n",
    "for i in f:\n",
    "    c+=1\n",
    "if c <=5:\n",
    "    s = input(\"Enter the surname\")\n",
    "    print(f\"name is {f.upper()+' '+s.upper()}\")\n",
    "elif c > 5:\n",
    "    print(f\"name is {f.lower()}\")\n",
    "else :\n",
    "    print(\"exit\")"
   ]
  },
  {
   "cell_type": "code",
   "execution_count": 41,
   "metadata": {},
   "outputs": [
    {
     "name": "stdout",
     "output_type": "stream",
     "text": [
      "name is SHO SHAH\n"
     ]
    }
   ],
   "source": [
    "f = \"sho\"\n",
    "c = 0\n",
    "for i in f:\n",
    "    c+=1\n",
    "if c <=5:\n",
    "    s = \"shah\"\n",
    "    print(f\"name is {f.upper()+' '+s.upper()}\")\n",
    "elif c > 5:\n",
    "    print(f\"name is {f.lower()}\")\n",
    "else :\n",
    "    print(\"exit\")"
   ]
  },
  {
   "cell_type": "markdown",
   "metadata": {},
   "source": [
    "## Practice tests related to string"
   ]
  },
  {
   "cell_type": "code",
   "execution_count": 109,
   "metadata": {},
   "outputs": [
    {
     "name": "stdout",
     "output_type": "stream",
     "text": [
      "{'a': 2, 'c': 5, 'g': 5, 't': 2}\n"
     ]
    }
   ],
   "source": [
    "# x = 0\n",
    "# for i in range(l):\n",
    "#     if s[i] == 'a':\n",
    "#         x+=1\n",
    "# print(x)\n",
    "        \n",
    "\n",
    "# count number of character in a string\n",
    "s = \"acgccgcgtggcat\"\n",
    "dict = {}\n",
    "for i in s:\n",
    "    # keys = dict.keys()\n",
    "    if i not in dict:\n",
    "        dict[i] = 1  #give 'a' frequency when first time iterated\n",
    "    else:\n",
    "        dict[i]+=1   #counts the frequency of every key if repeated\n",
    "print(dict)"
   ]
  },
  {
   "cell_type": "code",
   "execution_count": 65,
   "metadata": {},
   "outputs": [
    {
     "name": "stdout",
     "output_type": "stream",
     "text": [
      "{}\n"
     ]
    }
   ],
   "source": [
    "s = \"acgccgcgtggcat\"\n",
    "dic = {}\n",
    "for i in s:\n",
    "    keys = dic.keys()\n",
    "print(dic)"
   ]
  },
  {
   "cell_type": "code",
   "execution_count": 83,
   "metadata": {},
   "outputs": [
    {
     "data": {
      "text/plain": [
       "2"
      ]
     },
     "execution_count": 83,
     "metadata": {},
     "output_type": "execute_result"
    }
   ],
   "source": [
    "w = {'a': 2, 'c': 5, 'g': 5, 't': 2}\n",
    "w['a']"
   ]
  },
  {
   "cell_type": "code",
   "execution_count": 85,
   "metadata": {},
   "outputs": [
    {
     "data": {
      "text/plain": [
       "dict_keys(['a', 'c', 'g', 't'])"
      ]
     },
     "execution_count": 85,
     "metadata": {},
     "output_type": "execute_result"
    }
   ],
   "source": [
    "w.keys()"
   ]
  },
  {
   "cell_type": "code",
   "execution_count": 107,
   "metadata": {},
   "outputs": [
    {
     "name": "stdout",
     "output_type": "stream",
     "text": [
      "{'e': 2, 'f': 3} dict_keys(['e', 'f'])\n"
     ]
    },
    {
     "data": {
      "text/plain": [
       "2"
      ]
     },
     "execution_count": 107,
     "metadata": {},
     "output_type": "execute_result"
    }
   ],
   "source": [
    "# create dictionary\n",
    "w = {'e':2,'f':3}\n",
    "l = w.keys()\n",
    "print(w,l)\n",
    "w['e']"
   ]
  }
 ],
 "metadata": {
  "interpreter": {
   "hash": "34112f086aed94634d6846f24d011e02769f1fb9c94ce0e3e957c2173ceeacb5"
  },
  "kernelspec": {
   "display_name": "Python 3.6.13 64-bit ('genomics': conda)",
   "language": "python",
   "name": "python3"
  },
  "language_info": {
   "codemirror_mode": {
    "name": "ipython",
    "version": 3
   },
   "file_extension": ".py",
   "mimetype": "text/x-python",
   "name": "python",
   "nbconvert_exporter": "python",
   "pygments_lexer": "ipython3",
   "version": "3.7.6"
  },
  "orig_nbformat": 4
 },
 "nbformat": 4,
 "nbformat_minor": 2
}
