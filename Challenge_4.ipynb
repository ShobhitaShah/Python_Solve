{
 "cells": [
  {
   "cell_type": "code",
   "execution_count": 3,
   "metadata": {},
   "outputs": [
    {
     "name": "stdout",
     "output_type": "stream",
     "text": [
      "12\n"
     ]
    }
   ],
   "source": [
    "# 1. length of string:\n",
    "k = \"acgacgatgcag\"\n",
    "c = 0\n",
    "for i in k:\n",
    "    c+=1\n",
    "print(c)"
   ]
  },
  {
   "cell_type": "code",
   "execution_count": 2,
   "metadata": {},
   "outputs": [
    {
     "name": "stdout",
     "output_type": "stream",
     "text": [
      "{'a': 2, 'c': 5, 'g': 5, 't': 2}\n"
     ]
    }
   ],
   "source": [
    "# 2. count number of character in a string\n",
    "s = \"acgccgcgtggcat\"\n",
    "dict = {}\n",
    "for i in s:\n",
    "    # keys = dict.keys()\n",
    "    if i not in dict:\n",
    "        dict[i] = 1  #give 'a' frequency when first time iterated\n",
    "    else:\n",
    "        dict[i]+=1   #counts the frequency of every key if repeated\n",
    "print(dict)"
   ]
  },
  {
   "cell_type": "code",
   "execution_count": 17,
   "metadata": {},
   "outputs": [
    {
     "name": "stdout",
     "output_type": "stream",
     "text": [
      "peal\n"
     ]
    }
   ],
   "source": [
    "# 3. Write a Python program to get a string made of the first 2 and the last 2 chars from a given a string. If the string length is less than 2, return instead of the empty string.\n",
    "\n",
    "#s = \"fancy\"\n",
    "s = input(\"Enter a word\")\n",
    "c = 0\n",
    "for i in s:\n",
    "    c+=1\n",
    "if c >= 2:\n",
    "    print(s[0:2] + s[-2:])\n",
    "else:\n",
    "    print(\"empty string\")"
   ]
  },
  {
   "cell_type": "code",
   "execution_count": 31,
   "metadata": {},
   "outputs": [
    {
     "data": {
      "text/plain": [
       "'ra$e'"
      ]
     },
     "execution_count": 31,
     "metadata": {},
     "output_type": "execute_result"
    }
   ],
   "source": [
    "# 4. Write a Python program to get a string from a given string where all occurrences of its first char have been changed to '$', except the first char itself.\n",
    "\n",
    "s = \"rare\"\n",
    "char = s[0]\n",
    "s1 = s.replace(char,'$')\n",
    "s = s[0] + s1[1:]\n",
    "s\n",
    "\n"
   ]
  },
  {
   "cell_type": "code",
   "execution_count": 38,
   "metadata": {},
   "outputs": [
    {
     "data": {
      "text/plain": [
       "'liger tion'"
      ]
     },
     "execution_count": 38,
     "metadata": {},
     "output_type": "execute_result"
    }
   ],
   "source": [
    "# 5. Write a Python program to get a single string from two given strings, separated by a space and swap the first two characters of each string.\n",
    "\n",
    "s = \"tiger\"\n",
    "m = \"lion\"\n",
    "join = m[0]+s[1:]+ ' ' + s[0]+m[1:]\n",
    "join\n"
   ]
  },
  {
   "cell_type": "code",
   "execution_count": 48,
   "metadata": {},
   "outputs": [
    {
     "name": "stdout",
     "output_type": "stream",
     "text": [
      "strly\n"
     ]
    }
   ],
   "source": [
    "# 6. Write a Python program to add 'ing' at the end of a given string (length should be at least 3). If the given string already ends with 'ing' then add 'ly' instead. If the string length of the given string is less than 3, leave it unchanged. \n",
    "\n",
    "s = input(\"Enter a string\")\n",
    "\n",
    "if len(s) >= 3:\n",
    "    \n",
    "    if \"ing\" in s:\n",
    "        print(s[:-3] + \"ly\")\n",
    "    else:\n",
    "        print(s + \"ing\")\n",
    "else:\n",
    "    print(s)\n"
   ]
  },
  {
   "cell_type": "code",
   "execution_count": 19,
   "metadata": {},
   "outputs": [
    {
     "name": "stdout",
     "output_type": "stream",
     "text": [
      "yes\n",
      "14 23\n",
      "The lyrics is good! The lyrics is poor!\n"
     ]
    }
   ],
   "source": [
    "# 7. Write a Python program to find the first appearance of the substring 'not' and 'poor' from a given string, if 'not' follows the 'poor', replace the whole 'not'...'poor' substring with 'good'. Return the resulting string.\n",
    "\n",
    "s = \"The lyrics is not that poor! The lyrics is poor!\"\n",
    "\n",
    "if \"not\" in s and \"poor\" in s:\n",
    "    print(\"yes\")\n",
    "x = s.find(\"not\")    #gives the index of n from not \n",
    "y = s.find(\"poor\")   #gives the index of p from poor\n",
    "print(x,y)\n",
    "if y > x and x >0 and y > 0:\n",
    "    s = s.replace(s[x:(y+4)], 'good')    # say x = 14 (n of not at index 14) and y at index 20 means p of poor. we need upper range as r index of poor. THis can be solved if y+ (1+ all character of the words are added) \n",
    "print(s)\n"
   ]
  },
  {
   "cell_type": "code",
   "execution_count": 257,
   "metadata": {},
   "outputs": [
    {
     "name": "stdout",
     "output_type": "stream",
     "text": [
      "Largest word is mangoes, length of largest word is 7\n"
     ]
    }
   ],
   "source": [
    "\n",
    "# 8. Write a Python function that takes a list of words and return the longest word and the length of the longest one.\n",
    "### using no method or function\n",
    "word = [\"apple\", \"mangoes\", \"soe\", \"lense\"]\n",
    "max = float('-inf')   #smallest number defined in python\n",
    "str = \"\"\n",
    "for i in word:\n",
    "    \n",
    "    if len(i) > max:\n",
    "        max = len(i)\n",
    "        str = i\n",
    "print(f\"Largest word is {str}, length of largest word is {max}\")"
   ]
  },
  {
   "cell_type": "code",
   "execution_count": 55,
   "metadata": {},
   "outputs": [
    {
     "name": "stdout",
     "output_type": "stream",
     "text": [
      "(7, 'mangoes')\n",
      "7 mangoes\n",
      "\n",
      "Longest word:  mangoes\n",
      "Length of the longest word:  7\n"
     ]
    }
   ],
   "source": [
    "# funtion method\n",
    "def find_longest_word(words_list):\n",
    "    word_len = []\n",
    "    for n in words_list:\n",
    "        word_len.append((len(n), n))\n",
    "    word_len.sort()\n",
    "    print(word_len[-1])\n",
    "    print(word_len[-1][0], word_len[-1][1])\n",
    "    return word_len[-1][0], word_len[-1][1]\n",
    "\n",
    "\n",
    "result = find_longest_word([\"apple\", \"mangoes\", \"soe\", \"lense\"])\n",
    "print(\"\\nLongest word: \",result[1])\n",
    "print(\"Length of the longest word: \",result[0])\n"
   ]
  },
  {
   "cell_type": "code",
   "execution_count": 70,
   "metadata": {},
   "outputs": [
    {
     "name": "stdout",
     "output_type": "stream",
     "text": [
      "ghchu\n",
      "banaa\n",
      "resect\n"
     ]
    }
   ],
   "source": [
    "# 9. Write a Python program to remove the nth index character from a nonempty string.\n",
    "\n",
    "## three function for different logics\n",
    "def with_slicing(s,i):\n",
    "    k=s[:i]\n",
    "    l=s[i+1:]\n",
    "    join = k+l\n",
    "    print(join)\n",
    "\n",
    "def with_logic(s,n):\n",
    "    w2 = \"\"\n",
    "    for i in range(0,len(s)):\n",
    "        if i != n:\n",
    "            w2 = w2 + s[i]\n",
    "    print(w2)\n",
    "\n",
    "def with_replace(w1,n):\n",
    "    for i in range(0,len(w1)):\n",
    "        if i == n:\n",
    "            w1 = w1.replace(w1[i],\"\")\n",
    "    print(w1)   \n",
    "\n",
    "with_slicing(\"ghochu\", 2)\n",
    "with_logic(\"banana\", 4)\n",
    "with_replace(\"respect\" , 3)"
   ]
  },
  {
   "cell_type": "code",
   "execution_count": 76,
   "metadata": {},
   "outputs": [
    {
     "name": "stdout",
     "output_type": "stream",
     "text": [
      "phoebook is formed after removal of the string from phonebook\n"
     ]
    }
   ],
   "source": [
    "##remove nth character\n",
    "n = int(input(\"give the index from where you want to remove your character: \"))\n",
    "w1 = input(\"Enter your string: \")\n",
    "w2 = \"\"\n",
    "for i in range(0,len(w1)):\n",
    "    if i != n:\n",
    "        w2 = w2 + w1[i]\n",
    "print(f\"{w2} is formed after removal of the string from {w1}\")\n",
    "\n"
   ]
  },
  {
   "cell_type": "code",
   "execution_count": 85,
   "metadata": {},
   "outputs": [
    {
     "name": "stdout",
     "output_type": "stream",
     "text": [
      "string after manipulation is 'holisp' of polish\n"
     ]
    }
   ],
   "source": [
    "# 10. Write a Python program to change a given string to a new string where the first and last chars have been exchanged.\n",
    "\n",
    "# str1 = \"Book\"\n",
    "# str2 = \"phone\"\n",
    "# join = str1[0] + str2[1:-1] + str1[-1]\n",
    "# print(join)\n",
    "\n",
    "str1 = input(\"Enter a string\")\n",
    "join = str1[-1] + str1[1:-1] + str1[0]\n",
    "print(f\"string after manipulation is '{join}' of {str1}\")"
   ]
  },
  {
   "cell_type": "code",
   "execution_count": 106,
   "metadata": {},
   "outputs": [
    {
     "name": "stdout",
     "output_type": "stream",
     "text": [
      "1 i\n",
      "j\n",
      "3 d\n",
      "j\n",
      "\n",
      "string after removing odd position characters 'mins' from minds\n"
     ]
    }
   ],
   "source": [
    "# 11. Write a Python program to remove the characters which have odd index values of a given string.\n",
    "\n",
    "str = \"minds\"\n",
    "odd = []\n",
    "emp = \"\"\n",
    "for i in range(0,len(str)):\n",
    "    if i%2 != 0:\n",
    "        print(i, str[i])\n",
    "        print(\"j\")\n",
    "        emp = str.replace(str[i], '')\n",
    "print(f\"\\nstring after removing odd position characters '{emp}' from {str}\")\n",
    "            \n",
    "\n"
   ]
  },
  {
   "cell_type": "code",
   "execution_count": 156,
   "metadata": {},
   "outputs": [
    {
     "name": "stdout",
     "output_type": "stream",
     "text": [
      "['B', 'a', 'n', 'a', 'n', 'a', ' ', 'i', 's', ' ', 'a', ' ', 'f', 'r', 'u', 'i', 't', '.', ' ', 'I', ' ', 'l', 'i', 'k', 'e', ' ', 't', 'o', ' ', 'e', 'a', 't', ' ', 'b', 'a', 'n', 'a', 'n', 'a', '.']\n"
     ]
    }
   ],
   "source": [
    "# 12. Write a Python program to count the occurrences of each word in a given sentence.\n",
    "\n",
    "str_old = \"Banana is a fruit. I like to eat banana.\"\n",
    "# for i in range(len(str)):\n",
    "#     #print(i, str[i])\n",
    "#     if str[i] == ' ':\n",
    "#         s = str.replace(' ', ',')\n",
    "# print(s)\n",
    "# for i in range(len(s)):\n",
    "#     if s[i] == ',':\n",
    "#         list_s = list(s[i])\n",
    "# print(list_s)\n",
    "\n",
    "## Testing\n",
    "new_list = []\n",
    "for word in str_old:\n",
    "    w = ''\n",
    "    for ch in word:\n",
    "        if ch == ' ' and w != '':\n",
    "            new_list.append(w)\n",
    "            print(new_list)\n",
    "            w = ''\n",
    "        else:\n",
    "            w = w + ch\n",
    "    if w != '':\n",
    "        new_list.append(w)\n",
    "    \n",
    "print(new_list)"
   ]
  },
  {
   "cell_type": "code",
   "execution_count": 211,
   "metadata": {},
   "outputs": [
    {
     "name": "stdout",
     "output_type": "stream",
     "text": [
      "['banana', 'is', 'a', 'fruit', 'I', 'like', 'to', 'eat', 'banana', 'fruit']\n"
     ]
    }
   ],
   "source": [
    "##Final : convert string to list\n",
    "\n",
    "str_old = \"banana is a fruit. I like to eat banana fruit.\"\n",
    "str_old= str_old.replace('.', '')\n",
    "def strToList(str_old, end = \" \"):\n",
    "    new_list=[]\n",
    "    wrd=\"\"\n",
    "    for word in str_old:\n",
    "        for ch in word:\n",
    "            if ch != \" \" and ch != '':\n",
    "                wrd += ch\n",
    "            else:\n",
    "                new_list.append(wrd)\n",
    "                wrd=\"\"\n",
    "    return new_list\n",
    "\n",
    "string = strToList(str_old+\" \")\n",
    "print(string)"
   ]
  },
  {
   "cell_type": "code",
   "execution_count": 209,
   "metadata": {},
   "outputs": [
    {
     "name": "stdout",
     "output_type": "stream",
     "text": [
      "{'banana': 2, 'is': 1, 'a': 1, 'fruit': 2, 'I': 1, 'like': 1, 'to': 1, 'eat': 1}\n"
     ]
    }
   ],
   "source": [
    "## make dictionary of list to find occurance of word\n",
    "dict = {}\n",
    "for i in string:\n",
    "    if i not in dict:\n",
    "        dict[i] = 1 \n",
    "    else: \n",
    "        dict[i]+= 1\n",
    "\n",
    "print(dict)"
   ]
  },
  {
   "cell_type": "code",
   "execution_count": 181,
   "metadata": {},
   "outputs": [
    {
     "name": "stdout",
     "output_type": "stream",
     "text": [
      "No, key: 'hello' does not exists in dictionary\n"
     ]
    }
   ],
   "source": [
    "#Random_Test\n",
    "word_freq = { \"Hello\": 56, \"at\": 23, \"test\": 43, \"this\": 78 }\n",
    "key = 'hello'\n",
    "# Check if key not in dict python\n",
    "if key not in word_freq:\n",
    "    print(f\"No, key: '{key}' does not exists in dictionary\")\n",
    "else:\n",
    "    print(f\"Yes, key: '{key}' exists in dictionary\")"
   ]
  },
  {
   "cell_type": "code",
   "execution_count": 245,
   "metadata": {},
   "outputs": [
    {
     "data": {
      "text/plain": [
       "115"
      ]
     },
     "execution_count": 245,
     "metadata": {},
     "output_type": "execute_result"
    }
   ],
   "source": [
    "ord('s')"
   ]
  },
  {
   "cell_type": "code",
   "execution_count": 246,
   "metadata": {},
   "outputs": [
    {
     "data": {
      "text/plain": [
       "'A'"
      ]
     },
     "execution_count": 246,
     "metadata": {},
     "output_type": "execute_result"
    }
   ],
   "source": [
    "chr(65)"
   ]
  },
  {
   "cell_type": "code",
   "execution_count": 253,
   "metadata": {},
   "outputs": [
    {
     "name": "stdout",
     "output_type": "stream",
     "text": [
      "upper case is : HELLO\n",
      "loer case is : hello\n"
     ]
    }
   ],
   "source": [
    "# 13. Write a Python script that takes input from the user and displays that input back in upper and lower cases.\n",
    "# ### 65 = 'A' , 90 = 'Z' , 97 = 'a' , 122 = 'z'\n",
    "\n",
    "#'chr' used to find the character from ascii value : chr(65)\n",
    "# 'ord' is used to find the ascii value   : ord('s')\n",
    "\n",
    "s = \"hello\"\n",
    "upper_s_new = ''\n",
    "for i in s:\n",
    "    if ord(i) >= 97 and ord(i) < 123: #ord(i) is giving ascii value for string iterables\n",
    "        upper_s_new+= chr(ord(i) - 32)       #chr() is converting acii to character and 'ord(i) - 32' is giving uppercase\n",
    "    else:\n",
    "        upper_s_new+=i\n",
    "print(f\"upper case is : {upper_s_new}\")\n",
    "\n",
    "lower_s_new = ''\n",
    "for i in upper_s_new:\n",
    "    if ord(i) >=56 and ord(i) < 98:\n",
    "        lower_s_new+= chr(ord(i)+32)\n",
    "    else:\n",
    "        lower_s_new+=i\n",
    "print(f\"loer case is : {lower_s_new}\")"
   ]
  },
  {
   "cell_type": "code",
   "execution_count": 254,
   "metadata": {},
   "outputs": [
    {
     "name": "stdout",
     "output_type": "stream",
     "text": [
      "smalest word is soe, length of smallest word is 3\n"
     ]
    }
   ],
   "source": [
    "# 15. Write a Python function that takes a list of words and return the smallest word and the length of the smallest one.\n",
    "\n",
    "word = [\"apple\", \"mangoes\", \"soe\", \"lense\"]\n",
    "min = float('inf')   #hignest number defined in python\n",
    "str = \"\"\n",
    "for i in word:\n",
    "    \n",
    "    if len(i) < min:\n",
    "        min = len(i)\n",
    "        str = i\n",
    "print(f\"smalest word is {str}, length of smallest word is {min}\")"
   ]
  },
  {
   "cell_type": "code",
   "execution_count": 267,
   "metadata": {},
   "outputs": [
    {
     "name": "stdout",
     "output_type": "stream",
     "text": [
      "itititit\n"
     ]
    }
   ],
   "source": [
    "#17: Write a Python function to get a string made of 4 copies of the last two characters of a specified string (length must be at least 2).\n",
    "\n",
    "str = input(\"enter a word\")\n",
    "st = \"\"\n",
    "for i in range(len(str)):\n",
    "    if i >= 2:\n",
    "        st = 4*str[-2:]\n",
    "print(st)\n"
   ]
  },
  {
   "cell_type": "code",
   "execution_count": 270,
   "metadata": {},
   "outputs": [
    {
     "data": {
      "text/plain": [
       "'onononon'"
      ]
     },
     "execution_count": 270,
     "metadata": {},
     "output_type": "execute_result"
    }
   ],
   "source": [
    "st = \"lion\"\n",
    "4*st[-2:]"
   ]
  },
  {
   "cell_type": "code",
   "execution_count": 282,
   "metadata": {},
   "outputs": [
    {
     "name": "stdout",
     "output_type": "stream",
     "text": [
      "\n",
      "Python Exercises\n",
      "hello\n",
      "hi\n"
     ]
    },
    {
     "data": {
      "text/plain": [
       "'\\nPython Exercises\\nhello\\nhi'"
      ]
     },
     "execution_count": 282,
     "metadata": {},
     "output_type": "execute_result"
    }
   ],
   "source": [
    "#23.  Write a Python program to remove a newline in Python.\n",
    "\n",
    "str1='\\nPython Exercises\\nhello\\nhi'\n",
    "print(str1)\n",
    "str1.rstrip()\n"
   ]
  },
  {
   "cell_type": "code",
   "execution_count": 273,
   "metadata": {},
   "outputs": [
    {
     "name": "stdout",
     "output_type": "stream",
     "text": [
      "True\n"
     ]
    }
   ],
   "source": [
    "#24 : Write a Python program to check whether a string starts with specified characters.\n",
    "\n",
    "str = input(\"Enter a string\")   #w@nString\n",
    "s = input(\"Enter specitic character you want to find in string\") #w@n\n",
    "if s in str:\n",
    "    print(\"True\")\n",
    "else:\n",
    "    print(\"False\")"
   ]
  },
  {
   "cell_type": "code",
   "execution_count": 315,
   "metadata": {},
   "outputs": [
    {
     "name": "stdout",
     "output_type": "stream",
     "text": [
      "*Throughout the afternoon I watched them there,\n",
      "*Snow-fairies falling, \n",
      "*falling from the sky,\n",
      "*Whirling fantastic in the misty air,\n",
      "*Contending fierce for space supremacy.\n"
     ]
    }
   ],
   "source": [
    "# 28. Write a Python program to add a prefix text to all of the lines in a string.\n",
    "\n",
    "str = \"\"\"Throughout the afternoon I watched them there,\n",
    "Snow-fairies falling, \\nfalling from the sky,\n",
    "Whirling fantastic in the misty air,\n",
    "Contending fierce for space supremacy.\"\"\"\n",
    "new_str = '*' #text initialized with *\n",
    "for i in str:\n",
    "    if i == \"\\n\":\n",
    "        new_str+= \"\\n*\"  #adding \"*\" when next line found\n",
    "        #str = \"*\" + str \n",
    "    else:\n",
    "        new_str+= i     #prnting as it is till \"\\n\" is found\n",
    "print(new_str)"
   ]
  },
  {
   "cell_type": "code",
   "execution_count": 307,
   "metadata": {},
   "outputs": [
    {
     "data": {
      "text/plain": [
       "'Throughout\\n the afternoon I watched them there,\\nSnow-fairies falling, falling from the sky,\\nWhirling fantastic in the misty air,\\nContending fierce for space supremacy.'"
      ]
     },
     "execution_count": 307,
     "metadata": {},
     "output_type": "execute_result"
    }
   ],
   "source": [
    "str = \"\"\"Throughout\\n the afternoon I watched them there,\n",
    "Snow-fairies falling, falling from the sky,\n",
    "Whirling fantastic in the misty air,\n",
    "Contending fierce for space supremacy.\"\"\"\n",
    "str"
   ]
  },
  {
   "cell_type": "code",
   "execution_count": 308,
   "metadata": {},
   "outputs": [
    {
     "data": {
      "text/plain": [
       "'\\n'"
      ]
     },
     "execution_count": 308,
     "metadata": {},
     "output_type": "execute_result"
    }
   ],
   "source": [
    "str[10]"
   ]
  }
 ],
 "metadata": {
  "interpreter": {
   "hash": "5f98ca99da32553643f43ddd11c766744b2cd07205bc1a2f5c7a276bbfe50a73"
  },
  "kernelspec": {
   "display_name": "Python 3.7.6 64-bit ('base': conda)",
   "language": "python",
   "name": "python3"
  },
  "language_info": {
   "codemirror_mode": {
    "name": "ipython",
    "version": 3
   },
   "file_extension": ".py",
   "mimetype": "text/x-python",
   "name": "python",
   "nbconvert_exporter": "python",
   "pygments_lexer": "ipython3",
   "version": "3.7.6"
  },
  "orig_nbformat": 4
 },
 "nbformat": 4,
 "nbformat_minor": 2
}
