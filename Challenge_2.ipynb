{
 "cells": [
  {
   "cell_type": "code",
   "execution_count": 8,
   "metadata": {},
   "outputs": [
    {
     "name": "stdout",
     "output_type": "stream",
     "text": [
      "Enter number 1 : 2\n",
      "Enter number 2 : 4\n",
      "\n",
      "2 is first number 4 is second number\n"
     ]
    }
   ],
   "source": [
    "# Problem: 12\n",
    "# Ask for two numbers. If the first one is larger than the second, display the second number first and then the first number, otherwise showthe first number first andthen the second.\n",
    "\n",
    "a = int(input(\"Enter number 1 : \"))\n",
    "b = int(input(\"Enter number 2 : \"))\n",
    "if a > b:\n",
    "    print(f\"\\n{b} is second number and {a} is first number\")\n",
    "else:\n",
    "    print(f\"\\n{a} is first number {b} is second number\")"
   ]
  },
  {
   "cell_type": "code",
   "execution_count": 5,
   "metadata": {},
   "outputs": [
    {
     "name": "stdout",
     "output_type": "stream",
     "text": [
      "Enter a number under 20 : 24\n",
      "\n",
      "Too high\n"
     ]
    }
   ],
   "source": [
    "# Problem: 13\n",
    "# Ask the user to enter a number that is under 20. If they enter a number that is 20 or more, display the message “Too high”,otherwise display“Thank you”.\n",
    "\n",
    "num = int(input(\"Enter a number under 20 : \"))\n",
    "if num >= 20:\n",
    "    print(\"\\nToo high\")\n",
    "else:\n",
    "    print(\"\\nThank you\")"
   ]
  },
  {
   "cell_type": "code",
   "execution_count": 7,
   "metadata": {},
   "outputs": [
    {
     "name": "stdout",
     "output_type": "stream",
     "text": [
      "Enter number between range 10-20 : 14\n",
      "\n",
      "Thank you\n"
     ]
    }
   ],
   "source": [
    "# Problem: 14\n",
    "# Ask the user to enter a number between 10 and 20 (inclusive). If they enter a number within this range, display the message “Thank You”, otherwise display the message “Incorrect answer”. \n",
    "\n",
    "num = int(input(\"Enter number between range 10-20 : \"))\n",
    "\n",
    "if num > 10 and num < 20:\n",
    "    print(\"\\nThank you\")\n",
    "else:\n",
    "    print(\"\\nIncorrect answer\")"
   ]
  },
  {
   "cell_type": "code",
   "execution_count": 12,
   "metadata": {},
   "outputs": [
    {
     "name": "stdout",
     "output_type": "stream",
     "text": [
      "Enter your favourite color : yellow\n",
      "\n",
      "I don't like yellow, I prefer red\n"
     ]
    }
   ],
   "source": [
    "# Problem: 15\n",
    "# Ask the user to enter their favourite colour. If they enter “red”, “RED” or “Red” display the message “I like red too”, otherwise display the message “I don’t like [colour], I prefer red”.\n",
    "\n",
    "color = input(\"Enter your favourite color : \")\n",
    "if color == \"red\" or color == \"RED\" or color == \"Red\":\n",
    "    print(\"\\n I like red too\")\n",
    "else:\n",
    "    print(f\"\\nI don't like {color}, I prefer red\")"
   ]
  },
  {
   "cell_type": "code",
   "execution_count": 18,
   "metadata": {},
   "outputs": [
    {
     "name": "stdout",
     "output_type": "stream",
     "text": [
      "Say if it is raining : yes\n",
      "\n",
      "Tell if it is windy : no\n",
      "\n",
      "Take the umbrella\n"
     ]
    }
   ],
   "source": [
    "# Problem: 16\n",
    "# Ask the user if it is raining and convert their answer to lower case so it doesn’t matter what case they type it in. If they answer “yes”, ask if it is windy. If they answer “yes” to this second question,\n",
    "# display the answer “It is too windy for an umbrella”, otherwise display the message “Take an umbrella”. If they did not answer yes\n",
    "# to the first question, display the answer “Enjoy your day”. \n",
    "\n",
    "say = input(\"Say if it is raining : \")\n",
    "\n",
    "if say.lower() == \"yes\":\n",
    "    ask = input(\"\\nTell if it is windy : \")\n",
    "    if ask.lower() == \"yes\":\n",
    "        print(\"\\nIt is too windy for an umbrella\")\n",
    "    else:\n",
    "        print(\"\\nTake the umbrella\")\n",
    "else:\n",
    "    print(\"\\nEnjoy your day\")"
   ]
  },
  {
   "cell_type": "code",
   "execution_count": 25,
   "metadata": {},
   "outputs": [
    {
     "name": "stdout",
     "output_type": "stream",
     "text": [
      "Enter your age : 18\n",
      "\n",
      "You can vote\n"
     ]
    }
   ],
   "source": [
    "# Problem: 17\n",
    "# Ask the user’s age. If they are 18 or over, display the message “You can vote”, if they are aged 17, display the message “You can learn to\n",
    "# drive”, if they are 16, display the message “You can buy alottery ticket”, if they are under 16, display the message “You can go Trick or-Treating”.\n",
    "age = int(input(\"Enter your age : \"))\n",
    "\n",
    "if age >= 18:\n",
    "    print(\"\\nYou can vote\")\n",
    "elif age == 17:\n",
    "    print(\"\\nYou can learn to drive\")\n",
    "elif age ==16:\n",
    "    print(\"\\nYou can buy a lottery ticket\")\n",
    "else:\n",
    "    print(\"\\nYou can go Trick or-Treating\")"
   ]
  },
  {
   "cell_type": "code",
   "execution_count": 28,
   "metadata": {},
   "outputs": [
    {
     "name": "stdout",
     "output_type": "stream",
     "text": [
      "Enter your age : 16\n",
      "\n",
      "You can buy a lottery ticket\n"
     ]
    }
   ],
   "source": [
    "## Why this happened when I gave above 16???\n",
    "\n",
    "age = int(input(\"Enter your age : \"))\n",
    "\n",
    "if age >= 18:\n",
    "    print(\"\\nYou can vote\")\n",
    "if age == 17:\n",
    "    print(\"\\nYou can learn to drive\")\n",
    "if age ==16:\n",
    "    print(\"\\nYou can buy a lottery ticket\")\n",
    "else:\n",
    "    print(\"\\nYou can go Trick or-Treating\")"
   ]
  },
  {
   "cell_type": "code",
   "execution_count": 33,
   "metadata": {},
   "outputs": [
    {
     "name": "stdout",
     "output_type": "stream",
     "text": [
      "Enter a number : 1\n",
      "\n",
      "Too low\n"
     ]
    }
   ],
   "source": [
    "# Problem : 18\n",
    "# Ask the user to enter a number. If it is under 10, display the message “Too low”, if their number is between 10 and 20, display “Correct”, otherwise display “Too high”. \n",
    "\n",
    "n = int(input(\"Enter a number : \"))\n",
    "\n",
    "if n < 10:\n",
    "    print(\"\\nToo low\")\n",
    "elif n>=10 and n<=20:\n",
    "    print(\"\\n\\tCorrect\")\n",
    "else:\n",
    "    print(\"\\nToo high\")"
   ]
  },
  {
   "cell_type": "code",
   "execution_count": 38,
   "metadata": {},
   "outputs": [
    {
     "name": "stdout",
     "output_type": "stream",
     "text": [
      "Enter a number among 1,2 or 3 : 7\n",
      "Error message\n"
     ]
    }
   ],
   "source": [
    "# Problem 19\n",
    "# Ask the user to enter 1, 2 or 3. If they enter a 1, display the message “Thank you”, if they enter a 2, display “Well done”, if they enter a 3, display “Correct”. If they enter anything else, display “Error message”.\n",
    "\n",
    "choose_num = int(input(\"Enter a number among 1,2 or 3 : \"))\n",
    "\n",
    "if choose_num == 1:\n",
    "    print(\"Thank you\")\n",
    "elif choose_num == 2:\n",
    "    print(\"Well done\")\n",
    "elif choose_num == 3:\n",
    "    print(\"Correct\")\n",
    "else:\n",
    "    print(\"Error message\")"
   ]
  },
  {
   "cell_type": "code",
   "execution_count": 41,
   "metadata": {},
   "outputs": [
    {
     "name": "stdout",
     "output_type": "stream",
     "text": [
      "Enter number 1: 12\n",
      "Enter number 2 :15\n",
      "Enter number 3 : 2\n",
      "\n",
      "15 is largest\n"
     ]
    }
   ],
   "source": [
    "# test\n",
    "# Enter 3 numbers from user and find largest among them\n",
    "\n",
    "a = int(input(\"Enter number 1: \"))\n",
    "b = int(input(\"Enter number 2 :\"))\n",
    "c = int(input(\"Enter number 3 : \"))\n",
    "if a > b and a > c:\n",
    "    print(f\"\\n{a} is largest\")\n",
    "elif b > c:\n",
    "    print(f\"\\n{b} is largest\")\n",
    "else:\n",
    "    print(f\"\\n{c} is largest\")"
   ]
  },
  {
   "cell_type": "markdown",
   "metadata": {},
   "source": []
  }
 ],
 "metadata": {
  "kernelspec": {
   "display_name": "Python 3",
   "language": "python",
   "name": "python3"
  },
  "language_info": {
   "codemirror_mode": {
    "name": "ipython",
    "version": 3
   },
   "file_extension": ".py",
   "mimetype": "text/x-python",
   "name": "python",
   "nbconvert_exporter": "python",
   "pygments_lexer": "ipython3",
   "version": "3.8.5"
  }
 },
 "nbformat": 4,
 "nbformat_minor": 4
}
