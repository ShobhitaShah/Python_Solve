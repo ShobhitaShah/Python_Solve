{
 "cells": [
  {
   "cell_type": "markdown",
   "metadata": {},
   "source": [
    "# Taking input from user"
   ]
  },
  {
   "cell_type": "code",
   "execution_count": 1,
   "metadata": {},
   "outputs": [
    {
     "name": "stdout",
     "output_type": "stream",
     "text": [
      "Enter your first name : Alex\n",
      "Hello Alex\n"
     ]
    }
   ],
   "source": [
    "# Problem 1 : output as Hello <Fisrt name>\n",
    "\n",
    "print(\"Hello\", input(\"Enter your first name : \"))"
   ]
  },
  {
   "cell_type": "code",
   "execution_count": 2,
   "metadata": {},
   "outputs": [
    {
     "name": "stdout",
     "output_type": "stream",
     "text": [
      "Enter your first name : Shobhita\n",
      "Enter your surname : Shah\n",
      "Hello Shobhita Shah\n"
     ]
    }
   ],
   "source": [
    "# Problem 2 : output as Hello <Fisrt name> <Surname>\n",
    "\n",
    "print(\"Hello\" , input(\"Enter your first name : \") , input(\"Enter your surname : \"))"
   ]
  },
  {
   "cell_type": "code",
   "execution_count": 4,
   "metadata": {},
   "outputs": [
    {
     "name": "stdout",
     "output_type": "stream",
     "text": [
      "What do you call a bear with no teeth?\n",
      "A Gummy bear!\n"
     ]
    }
   ],
   "source": [
    "# Problem 3 : A joke in one line and anser of joke in another line using one line code\n",
    "\n",
    "print(\"What do you call a bear with no teeth?\\nA Gummy bear!\")"
   ]
  },
  {
   "cell_type": "code",
   "execution_count": 5,
   "metadata": {},
   "outputs": [
    {
     "name": "stdout",
     "output_type": "stream",
     "text": [
      "Enter the first number : 4\n",
      "Enter the second number : 4\n",
      "The total is 8\n"
     ]
    }
   ],
   "source": [
    "# Problem 4 : sum of two numbers, output as <The total is 'answers' >\n",
    "\n",
    "a = int(input(\"Enter the first number : \"))\n",
    "b = int(input(\"Enter the second number : \"))\n",
    "print(f\"The total is {a+b}\")"
   ]
  },
  {
   "cell_type": "code",
   "execution_count": 7,
   "metadata": {},
   "outputs": [
    {
     "name": "stdout",
     "output_type": "stream",
     "text": [
      "Enter first number : 4\n",
      "Enter second number : 2\n",
      "Enter third number : 10\n",
      "The answer is 60\n"
     ]
    }
   ],
   "source": [
    "# Problem 5 : three number, sum of first two and multiply with third, output as <The answer is >\n",
    "\n",
    "a = int(input(\"Enter first number : \"))\n",
    "b = int(input(\"Enter second number : \"))\n",
    "c = int(input(\"Enter third number : \"))\n",
    "d = a+b\n",
    "print(f\"The answer is {c*d}\")"
   ]
  },
  {
   "cell_type": "code",
   "execution_count": 9,
   "metadata": {},
   "outputs": [
    {
     "name": "stdout",
     "output_type": "stream",
     "text": [
      "Enter the total slices ordered : 10\n",
      "Enter the slices eaten : 4\n",
      "Slices left after eating pizza = 6\n"
     ]
    }
   ],
   "source": [
    "# Problem 6 : difference between user's total pizza slices and eaten slices\n",
    "\n",
    "total_slices = int(input(\"Enter the total slices ordered : \"))\n",
    "eat = int(input(\"Enter the slices eaten : \"))\n",
    "print(f\"Slices left after eating pizza = {total_slices - eat}\")"
   ]
  },
  {
   "cell_type": "code",
   "execution_count": 15,
   "metadata": {},
   "outputs": [
    {
     "name": "stdout",
     "output_type": "stream",
     "text": [
      "Enter total slices: 10\n",
      "Enter the eaten slices: 4\n",
      "\n",
      "Slices left after eating pizza = 6\n"
     ]
    }
   ],
   "source": [
    "# Problem 6 in one line,\n",
    "\n",
    "print(f'\\nSlices left after eating pizza = {int(input(\"Enter total slices: \")) - int(input(\"Enter the eaten slices: \"))}')"
   ]
  },
  {
   "cell_type": "code",
   "execution_count": 3,
   "metadata": {},
   "outputs": [
    {
     "name": "stdout",
     "output_type": "stream",
     "text": [
      "Enter you name : Ross\n",
      "Enter your age : 24\n",
      "\n",
      "Ross next birthday you will be 25.\n"
     ]
    }
   ],
   "source": [
    "# Problem 7 : output as  : <Name by user> Next Birthday you will be <Age+1>\n",
    "\n",
    "name = input(\"Enter you name : \")\n",
    "age = int(input(\"Enter your age : \"))\n",
    "print(f\"\\n{name} next birthday you will be {age+1}.\")"
   ]
  },
  {
   "cell_type": "code",
   "execution_count": 4,
   "metadata": {},
   "outputs": [
    {
     "name": "stdout",
     "output_type": "stream",
     "text": [
      "Enter total bill : 2000\n",
      "Enter total dinners : 8\n",
      "\n",
      "Each person will pay : 250\n"
     ]
    }
   ],
   "source": [
    "# Problem 8 : total bill and total dinners, print how much each person paid.\n",
    "\n",
    "total = int(input(\"Enter total bill : \"))\n",
    "dinners = int(input(\"Enter total dinners : \"))\n",
    "print(f\"\\nEach person will pay : {total//dinners}\") # '//' is used when we need output as interger and not decimal"
   ]
  },
  {
   "cell_type": "code",
   "execution_count": 5,
   "metadata": {},
   "outputs": [
    {
     "name": "stdout",
     "output_type": "stream",
     "text": [
      "Enter number of days : 4\n",
      "\n",
      "Number of hours in days 96, minutes in days 5760 and seconds in days 345600\n"
     ]
    }
   ],
   "source": [
    "# Problem 9 : ask total days, print <hous, minutes, seconds>\n",
    "\n",
    "days = int(input(\"Enter number of days : \"))\n",
    "print(f\"\\nNumber of hours in days {days*24}, minutes in days {days*24*60} and seconds in days {days*24*60*60}\")"
   ]
  },
  {
   "cell_type": "code",
   "execution_count": 8,
   "metadata": {},
   "outputs": [
    {
     "name": "stdout",
     "output_type": "stream",
     "text": [
      "Weight in kg is : 40\n",
      "\n",
      "The weight in pound is : 88160\n"
     ]
    }
   ],
   "source": [
    "# Problem 10 : 1kg = 2204 pounds, output as : convert kgs into pounds\n",
    "\n",
    "w = int(input(\"Weight in kg is : \"))\n",
    "print(f\"\\nThe weight in pound is : {w*2204}\")"
   ]
  },
  {
   "cell_type": "code",
   "execution_count": 12,
   "metadata": {},
   "outputs": [
    {
     "name": "stdout",
     "output_type": "stream",
     "text": [
      "Enter large number above 100 : 120\n",
      "Enter small number below 10 : 10\n",
      "\n",
      "The small number takes *12* times to make large number.\n"
     ]
    }
   ],
   "source": [
    "# Problem : take large number and small number, output : times the smaller number make large number\n",
    "\n",
    "l = int(input(\"Enter large number above 100 : \"))\n",
    "s = int(input(\"Enter small number below 10 : \"))\n",
    "print(f\"\\nThe small number takes *{l//s}* times to make large number.\")"
   ]
  },
  {
   "cell_type": "code",
   "execution_count": null,
   "metadata": {},
   "outputs": [],
   "source": []
  }
 ],
 "metadata": {
  "kernelspec": {
   "display_name": "Python 3",
   "language": "python",
   "name": "python3"
  },
  "language_info": {
   "codemirror_mode": {
    "name": "ipython",
    "version": 3
   },
   "file_extension": ".py",
   "mimetype": "text/x-python",
   "name": "python",
   "nbconvert_exporter": "python",
   "pygments_lexer": "ipython3",
   "version": "3.8.5"
  }
 },
 "nbformat": 4,
 "nbformat_minor": 4
}
